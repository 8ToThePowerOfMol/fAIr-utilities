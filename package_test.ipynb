{
  "cells": [
    {
      "cell_type": "code",
      "execution_count": 1,
      "metadata": {
        "colab": {
          "base_uri": "https://localhost:8080/"
        },
        "id": "6h_RC6b5gROG",
        "outputId": "f30732a8-dedc-45d3-a2bb-1e231f216eef"
      },
      "outputs": [
        {
          "name": "stdout",
          "output_type": "stream",
          "text": [
            "Mounted at /content/gdrive\n"
          ]
        }
      ],
      "source": [
        "from google.colab import drive\n",
        "\n",
        "drive.mount(\"/content/gdrive\")"
      ]
    },
    {
      "cell_type": "code",
      "execution_count": null,
      "metadata": {
        "colab": {
          "base_uri": "https://localhost:8080/"
        },
        "id": "kBm3vKddgROH",
        "outputId": "79097a2d-5d2e-4fa9-9b7b-30c9cacc15a0"
      },
      "outputs": [],
      "source": [
        "!pip install fairlib"
      ]
    },
    {
      "cell_type": "code",
      "execution_count": 4,
      "metadata": {
        "colab": {
          "base_uri": "https://localhost:8080/"
        },
        "id": "WI8nslrSgROI",
        "outputId": "2cbad97c-765f-4d2b-87df-773447500332"
      },
      "outputs": [
        {
          "name": "stderr",
          "output_type": "stream",
          "text": [
            "Clipping labels for 4: 100%|██████████| 84/84 [00:09<00:00,  8.98it/s]\n"
          ]
        }
      ],
      "source": [
        "from fairlib import preprocess\n",
        "\n",
        "preprocess(\n",
        "    input_path=\"/content/gdrive/MyDrive/Omdena/inputs_v2\",\n",
        "    mask_path=\"/content/gdrive/MyDrive/Omdena/masks_v2\",\n",
        "    rasterize=True,\n",
        "    image_path=None,\n",
        ")"
      ]
    },
    {
      "cell_type": "code",
      "execution_count": null,
      "metadata": {
        "colab": {
          "base_uri": "https://localhost:8080/"
        },
        "id": "w1PLe9S9BL8L",
        "outputId": "e4f3ce64-bbd6-4969-e49d-0f47dc9d6c0a"
      },
      "outputs": [
        {
          "name": "stdout",
          "output_type": "stream",
          "text": [
            "1/1 [==============================] - 4s 4s/step\n",
            "1/1 [==============================] - 2s 2s/step\n",
            "1/1 [==============================] - 2s 2s/step\n",
            "1/1 [==============================] - 2s 2s/step\n",
            "1/1 [==============================] - 3s 3s/step\n",
            "1/1 [==============================] - 2s 2s/step\n",
            "1/1 [==============================] - 2s 2s/step\n",
            "1/1 [==============================] - 2s 2s/step\n",
            "1/1 [==============================] - 2s 2s/step\n",
            "1/1 [==============================] - 2s 2s/step\n",
            "1/1 [==============================] - 1s 1s/step\n"
          ]
        }
      ],
      "source": [
        "from fairlib import predict\n",
        "\n",
        "predict(\n",
        "    checkpoint_path=f\"/content/gdrive/MyDrive/Omdena/model_1_checkpoint.tf\",\n",
        "    input_path=\"/content/gdrive/MyDrive/Omdena/inputs_v2/4\",\n",
        "    prediction_path=f\"/content/gdrive/MyDrive/Omdena/predictions\",\n",
        ")"
      ]
    },
    {
      "cell_type": "code",
      "execution_count": 5,
      "metadata": {
        "colab": {
          "base_uri": "https://localhost:8080/"
        },
        "id": "ho4zn_5UBgS3",
        "outputId": "afdec49e-4172-45a6-e7b6-cd34522ca7a0"
      },
      "outputs": [
        {
          "name": "stderr",
          "output_type": "stream",
          "text": [
            "100%|██████████| 4/4 [00:02<00:00,  1.62mask/s]\n",
            "Building graph: 100%|██████████| 95/95 [00:04<00:00, 19.26shapes/s]\n",
            "Merging components: 100%|██████████| 86/86 [00:09<00:00,  9.40component/s]\n"
          ]
        }
      ],
      "source": [
        "from fairlib import polygonize\n",
        "\n",
        "polygonize(\n",
        "    input_path=f\"/content/gdrive/MyDrive/Omdena/colab\", \n",
        "    output_path=f\"/content/gdrive/MyDrive/Omdena/labels.geojson\"\n",
        ")"
      ]
    }
  ],
  "metadata": {
    "colab": {
      "provenance": []
    },
    "kernelspec": {
      "display_name": "Python 3.11.0 64-bit",
      "language": "python",
      "name": "python3"
    },
    "language_info": {
      "name": "python",
      "version": "3.11.0"
    },
    "vscode": {
      "interpreter": {
        "hash": "5c7b89af1651d0b8571dde13640ecdccf7d5a6204171d6ab33e7c296e100e08a"
      }
    }
  },
  "nbformat": 4,
  "nbformat_minor": 0
}
